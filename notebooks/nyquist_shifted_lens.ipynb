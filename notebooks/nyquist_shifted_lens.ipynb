{
 "cells": [
  {
   "cell_type": "code",
   "execution_count": null,
   "id": "1a7ed122-34f5-4e0d-ab49-ed0b326aca54",
   "metadata": {},
   "outputs": [],
   "source": [
    "import numpy as np\n",
    "import matplotlib.pyplot as plt\n",
    "import scienceplots\n",
    "print(plt.style.available)\n",
    "plt.style.use('seaborn-v0_8')\n",
    "import matplotlib.pyplot as plt\n",
    "from mpl_toolkits.axes_grid1 import make_axes_locatable"
   ]
  },
  {
   "cell_type": "code",
   "execution_count": null,
   "id": "df378f82-3561-40bd-8679-871ed01d9157",
   "metadata": {},
   "outputs": [],
   "source": [
    "Lm = 8.96e-3\n",
    "Nm = 1080\n",
    "delta_m = Lm/Nm\n",
    "\n",
    "wavelength = 1.55e-6\n",
    "\n",
    "x0 = np.linspace(0,10e-2,1000)\n",
    "y0 = x0\n",
    "xx,yy = np.meshgrid(x0,y0)"
   ]
  },
  {
   "cell_type": "code",
   "execution_count": null,
   "id": "e2ef71d0-6d63-4525-b5bd-397a9ae35c96",
   "metadata": {},
   "outputs": [],
   "source": [
    "f0 = ((Lm + xx)/wavelength)*(delta_m)\n",
    "f1 = ((Lm + yy)/wavelength)*(delta_m)\n",
    "\n",
    "f_max = np.maximum(f0,f1)"
   ]
  },
  {
   "cell_type": "code",
   "execution_count": null,
   "id": "ca16f95e-451f-4f1f-8afe-f42074db01c1",
   "metadata": {},
   "outputs": [],
   "source": [
    "fig,ax = plt.subplots(1,1,figsize=(5,5))\n",
    "ax.pcolormesh(xx,yy,f_max)\n",
    "ax.set_aspect('equal')"
   ]
  },
  {
   "cell_type": "code",
   "execution_count": null,
   "id": "d26a226f-c15b-42d2-a13a-4096ba5037fa",
   "metadata": {},
   "outputs": [],
   "source": [
    "levels = np.linspace(1.e-2, 20e-2, 10)"
   ]
  },
  {
   "cell_type": "code",
   "execution_count": null,
   "id": "e5ca3b7e-5de3-4f3a-8b75-52265ca4757b",
   "metadata": {},
   "outputs": [],
   "source": [
    "fig,ax = plt.subplots(1,1,figsize=(4.5,4.5))\n",
    "ax.set_aspect('equal')\n",
    "\n",
    "p = ax.pcolormesh(xx,yy,f_max, cmap='GnBu')\n",
    "divider = make_axes_locatable(ax)\n",
    "cax = divider.append_axes('right', size='5%', pad=0.05)\n",
    "cbar = plt.colorbar(p, cax=cax)\n",
    "cbar.mappable.set_clim(np.min(f_max), np.max(f_max))\n",
    "new_cbar_ticks = np.round(np.linspace(np.min(f_max), np.max(f_max), num=5, endpoint=True),3)\n",
    "cbar.set_ticks(new_cbar_ticks)\n",
    "\n",
    "\n",
    "CS = ax.contour(xx,yy,f_max, colors='black')\n",
    "ax.set_xlabel(r'$x_0$ [cm]', color='black')\n",
    "ax.set_ylabel(r'$y_0$ [cm]', color='black')\n",
    "\n",
    "ax.plot([], label='Constant focal length', color='black')\n",
    "\n",
    "#plt.tight_layout()\n",
    "ax.legend(loc='upper left', frameon=True, facecolor='white', framealpha=1)\n",
    "fig.savefig(\"contour_shifted_lens.png\")"
   ]
  },
  {
   "cell_type": "code",
   "execution_count": null,
   "id": "60b95e0b-5b40-44fe-89f1-e4d25286dd5e",
   "metadata": {},
   "outputs": [],
   "source": [
    "len(levels)"
   ]
  },
  {
   "cell_type": "code",
   "execution_count": null,
   "id": "4b79f480-0fb5-46d5-a17a-d0eb91661540",
   "metadata": {},
   "outputs": [],
   "source": [
    "np.min(f_max)"
   ]
  },
  {
   "cell_type": "code",
   "execution_count": null,
   "id": "40444933-03d6-409b-aff8-26ad2a4ed410",
   "metadata": {},
   "outputs": [],
   "source": []
  }
 ],
 "metadata": {
  "kernelspec": {
   "display_name": "Python 3 (ipykernel)",
   "language": "python",
   "name": "python3"
  },
  "language_info": {
   "codemirror_mode": {
    "name": "ipython",
    "version": 3
   },
   "file_extension": ".py",
   "mimetype": "text/x-python",
   "name": "python",
   "nbconvert_exporter": "python",
   "pygments_lexer": "ipython3",
   "version": "3.11.5"
  }
 },
 "nbformat": 4,
 "nbformat_minor": 5
}

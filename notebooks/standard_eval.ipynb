{
 "cells": [
  {
   "cell_type": "code",
   "execution_count": null,
   "id": "0bf790be-30e9-47ef-bb01-da6fa4bfcecb",
   "metadata": {},
   "outputs": [],
   "source": [
    "import matplotlib.pyplot as plt\n",
    "import numpy as np\n",
    "import torch\n",
    "import pickle\n",
    "import yaml\n",
    "\n",
    "import sys\n",
    "sys.path.append('../')\n",
    "import datamodule\n",
    "import don\n",
    "from plane import Plane\n",
    "from propagator import PropagatorFactory"
   ]
  },
  {
   "cell_type": "code",
   "execution_count": null,
   "id": "08476b92-437f-46a0-87fd-1e3039a9ac19",
   "metadata": {},
   "outputs": [],
   "source": [
    "config = yaml.load(open('../config.yaml', 'r'), Loader = yaml.FullLoader)\n",
    "config['batch_size'] = 1"
   ]
  },
  {
   "cell_type": "code",
   "execution_count": null,
   "id": "87d920c0-7367-4dd7-a861-97f4cd0c254d",
   "metadata": {},
   "outputs": [],
   "source": [
    "checkpoint_path = '/home/mblgh6/Documents/diffractive_optical_model/results/my_models/early_testing/epoch=4-step=6250-v3.ckpt'\n",
    "checkpoint = torch.load(checkpoint_path)"
   ]
  },
  {
   "cell_type": "code",
   "execution_count": null,
   "id": "415a3f71-b6bc-4588-a8ec-591e9b3f5bdc",
   "metadata": {},
   "outputs": [],
   "source": [
    "model = don.DON(config)\n",
    "data = datamodule.select_data(config)\n",
    "data.prepare_data()\n",
    "data.setup(stage='fit')\n",
    "dataloader = data.train_dataloader()"
   ]
  },
  {
   "cell_type": "code",
   "execution_count": null,
   "id": "ac23fb9c-7d74-440c-adf1-31e0e509a022",
   "metadata": {},
   "outputs": [],
   "source": [
    "state_dict = checkpoint['state_dict']\n",
    "assert (state_dict['layers.0.propagator.H'].cpu() == model.layers[0].propagator.H).all()\n",
    "assert (state_dict['layers.1.propagator.H'].cpu() == model.layers[1].propagator.H).all()"
   ]
  },
  {
   "cell_type": "code",
   "execution_count": null,
   "id": "f8b91dbe-14e0-4c5c-ac60-dd3c8ac8458d",
   "metadata": {},
   "outputs": [],
   "source": [
    "model.load_state_dict(checkpoint['state_dict'])"
   ]
  },
  {
   "cell_type": "code",
   "execution_count": null,
   "id": "72f56361-4f39-4b71-96e4-9a32e48bb66f",
   "metadata": {},
   "outputs": [],
   "source": [
    "phases = []\n",
    "amplitudes = []\n",
    "for block in model.layers:\n",
    "    phases.append(block.modulator.get_phase(with_grad=False))\n",
    "    amplitudes.append(block.modulator.get_amplitude(with_grad=False))\n",
    "for phase in phases:\n",
    "    print((phase % (torch.pi * 2)).min())"
   ]
  },
  {
   "cell_type": "code",
   "execution_count": null,
   "id": "9a58781a-b0c2-4dbb-897a-45fc7673544c",
   "metadata": {},
   "outputs": [],
   "source": [
    "num_blocks = len(model.layers)\n",
    "fig,ax = plt.subplots(num_blocks, 2, figsize=(10, 5 * num_blocks))\n",
    "\n",
    "for i,(a,p) in enumerate(zip(amplitudes, phases)):\n",
    "    ax[i][0].imshow(a.squeeze())\n",
    "    ax[i][1].imshow(p.squeeze() % (torch.pi * 2), vmin=0, vmax=2*torch.pi)\n",
    "\n",
    "    ax[i][0].set_title(\"Block {} Amplitude\".format(i))\n",
    "    ax[i][1].set_title(\"Block {} Phase\".format(i))"
   ]
  },
  {
   "cell_type": "code",
   "execution_count": null,
   "id": "a8adc280-1510-4a14-9a4e-ea1a1091b7f8",
   "metadata": {},
   "outputs": [],
   "source": [
    "image, slm_sample, target = next(iter(dataloader))\n",
    "image = image.squeeze()\n",
    "slm_sample = slm_sample.squeeze()\n",
    "target = target.squeeze()"
   ]
  },
  {
   "cell_type": "code",
   "execution_count": null,
   "id": "685c0919-9d9b-4bfb-b0a2-117bb9b57495",
   "metadata": {},
   "outputs": [],
   "source": [
    "fig,ax = plt.subplots(3,2,figsize=(10,15))\n",
    "ax[0][0].imshow(image.abs())\n",
    "ax[0][1].imshow(image.angle())\n",
    "\n",
    "ax[1][0].imshow(slm_sample.abs())\n",
    "ax[1][1].imshow(slm_sample.angle())\n",
    "\n",
    "ax[2][0].imshow(target.abs())\n",
    "ax[2][1].imshow(target.angle())"
   ]
  },
  {
   "cell_type": "code",
   "execution_count": null,
   "id": "1b75903a-9207-4f8c-b68d-11d5bc50b0ef",
   "metadata": {},
   "outputs": [],
   "source": [
    "outputs, target = model.shared_step((image, slm_sample, target), 0)\n",
    "print(outputs.keys())\n",
    "for k in outputs:\n",
    "    outputs[k] = outputs[k].detach().squeeze()"
   ]
  },
  {
   "cell_type": "code",
   "execution_count": null,
   "id": "8b10c22e-7821-4ce5-ac6c-c039a25a7551",
   "metadata": {},
   "outputs": [],
   "source": [
    "fig,ax = plt.subplots(len(outputs), 2, figsize=(10, 5 * len(outputs)))\n",
    "ax[0][0].imshow(outputs['output_wavefronts'].abs())\n",
    "ax[0][1].imshow(outputs['output_wavefronts'].angle())"
   ]
  },
  {
   "cell_type": "code",
   "execution_count": null,
   "id": "1773fa1b-d056-47e3-8227-69ed82482f55",
   "metadata": {},
   "outputs": [],
   "source": [
    "test = model.layers[0].forward(image)"
   ]
  },
  {
   "cell_type": "code",
   "execution_count": null,
   "id": "2cadaa1c-a43e-440c-8b50-b02d28dd24d1",
   "metadata": {},
   "outputs": [],
   "source": [
    "plt.imshow(test.abs())"
   ]
  },
  {
   "cell_type": "code",
   "execution_count": null,
   "id": "ab40dbb8-38a6-4152-b68e-16d6ad8a26a8",
   "metadata": {},
   "outputs": [],
   "source": [
    "test2 = model.layers[1].forward(test)"
   ]
  },
  {
   "cell_type": "code",
   "execution_count": null,
   "id": "4e503a77-b1b1-4277-8df5-cc3123753dd7",
   "metadata": {},
   "outputs": [],
   "source": [
    "plt.imshow(test2.abs().detach().squeeze())"
   ]
  },
  {
   "cell_type": "code",
   "execution_count": null,
   "id": "8729cfa3-b9d4-4837-8afa-6fda2d94564f",
   "metadata": {},
   "outputs": [],
   "source": [
    "test"
   ]
  },
  {
   "cell_type": "code",
   "execution_count": null,
   "id": "5c16724e-afe8-4103-b5ac-f6e28cacf78a",
   "metadata": {},
   "outputs": [],
   "source": [
    "input_plane_params = {\n",
    "    'name':'input',\n",
    "    'size': torch.tensor([8.96e-3, 8.96e-3]),\n",
    "    'Nx':1080,\n",
    "    'Ny':1080,\n",
    "    'normal': torch.tensor([0,0,1]),\n",
    "    'center': torch.tensor([0,0,0])}\n",
    "\n",
    "output_plane_params = {\n",
    "    'name':'input',\n",
    "    'size': torch.tensor([8.96e-3, 8.96e-3]),\n",
    "    'Nx':1080,\n",
    "    'Ny':1080,\n",
    "    'normal': torch.tensor([0,0,1]),\n",
    "    'center': torch.tensor([0,0,0])}\n",
    "\n",
    "propagator_params = {'wavelength':torch.tensor(1.55e-6)}\n",
    "\n",
    "input_plane = Plane(input_plane_params)\n",
    "output_plane = Plane(output_plane_params)\n",
    "\n",
    "propagator = PropagatorFactory()(input_plane, output_plane, propagator_params)"
   ]
  },
  {
   "cell_type": "code",
   "execution_count": null,
   "id": "c3f37814-405d-4bdb-b0b9-7c45a96a3145",
   "metadata": {},
   "outputs": [],
   "source": [
    "test2 = propagator(test * model.layers[1].modulator.get_transmissivity(with_grad=False))"
   ]
  },
  {
   "cell_type": "code",
   "execution_count": null,
   "id": "886d8eeb-e4c7-4858-a4ab-df924e19dca6",
   "metadata": {},
   "outputs": [],
   "source": [
    "plt.imshow(test2.abs().detach().squeeze())"
   ]
  },
  {
   "cell_type": "code",
   "execution_count": null,
   "id": "5afbfa6f-c71f-4b02-a5c4-080fa33a1789",
   "metadata": {},
   "outputs": [],
   "source": [
    "Lx = 8.96e-3\n",
    "Nx = 1080\n",
    "delta_x = Lx/Nx\n",
    "wavelength = 1.55e-6\n",
    "\n",
    "first = 2*Lx * delta_x / wavelength\n",
    "second = first * np.sqrt(1 - (wavelength / ( 2 * delta_x))**2)\n",
    "print(second)"
   ]
  },
  {
   "cell_type": "code",
   "execution_count": null,
   "id": "12c6d263-b1f5-4219-88a6-b24467b0280a",
   "metadata": {},
   "outputs": [],
   "source": []
  }
 ],
 "metadata": {
  "kernelspec": {
   "display_name": "Python 3 (ipykernel)",
   "language": "python",
   "name": "python3"
  },
  "language_info": {
   "codemirror_mode": {
    "name": "ipython",
    "version": 3
   },
   "file_extension": ".py",
   "mimetype": "text/x-python",
   "name": "python",
   "nbconvert_exporter": "python",
   "pygments_lexer": "ipython3",
   "version": "3.11.5"
  }
 },
 "nbformat": 4,
 "nbformat_minor": 5
}

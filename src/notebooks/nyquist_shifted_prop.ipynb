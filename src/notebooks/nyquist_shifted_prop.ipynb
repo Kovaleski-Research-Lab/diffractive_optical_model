{
 "cells": [
  {
   "cell_type": "code",
   "execution_count": null,
   "id": "fa02c853-29df-40cc-b10d-dced38f87fdd",
   "metadata": {},
   "outputs": [],
   "source": [
    "import numpy as np\n",
    "import matplotlib.pyplot as plt\n",
    "print(plt.style.available)\n",
    "plt.style.use('seaborn-v0_8')"
   ]
  },
  {
   "cell_type": "code",
   "execution_count": null,
   "id": "0c2dbbe7-c1db-4ff9-8092-a101250b1fa4",
   "metadata": {},
   "outputs": [],
   "source": [
    "N = 1080\n",
    "Lx = 8.96e-3\n",
    "dx = Lx / 1080\n",
    "wavelength =  1.55e-6\n",
    "x0 = np.linspace(0,10e-2, 100)"
   ]
  },
  {
   "cell_type": "code",
   "execution_count": null,
   "id": "81918bb1-26f3-452d-bccf-a3e3d3f95755",
   "metadata": {},
   "outputs": [],
   "source": [
    "zasm = (N * dx + x0)*((2*dx)/(wavelength))*np.sqrt(1 - (wavelength / (2*dx))**2)"
   ]
  },
  {
   "cell_type": "code",
   "execution_count": null,
   "id": "934ed0ea-d914-4e0f-bca1-c146dad9837a",
   "metadata": {},
   "outputs": [],
   "source": [
    "plt.plot(zasm)"
   ]
  },
  {
   "cell_type": "code",
   "execution_count": null,
   "id": "c71685fb-d06d-4342-b653-2a0b2357f9bc",
   "metadata": {},
   "outputs": [],
   "source": [
    "zrsc = (N * dx + x0)*((2*dx)/(wavelength))*np.sqrt(1 - (wavelength / (2*dx))**2)"
   ]
  },
  {
   "cell_type": "code",
   "execution_count": null,
   "id": "01237ed7-3ddd-4af0-bbd4-36632786482e",
   "metadata": {},
   "outputs": [],
   "source": [
    "zasm[0]"
   ]
  },
  {
   "cell_type": "code",
   "execution_count": null,
   "id": "992f3b5d-f11e-450d-b62e-959241454278",
   "metadata": {},
   "outputs": [],
   "source": []
  }
 ],
 "metadata": {
  "kernelspec": {
   "display_name": "Python 3 (ipykernel)",
   "language": "python",
   "name": "python3"
  },
  "language_info": {
   "codemirror_mode": {
    "name": "ipython",
    "version": 3
   },
   "file_extension": ".py",
   "mimetype": "text/x-python",
   "name": "python",
   "nbconvert_exporter": "python",
   "pygments_lexer": "ipython3",
   "version": "3.12.4"
  }
 },
 "nbformat": 4,
 "nbformat_minor": 5
}

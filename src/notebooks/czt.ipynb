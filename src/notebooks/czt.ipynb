{
 "cells": [
  {
   "cell_type": "code",
   "execution_count": null,
   "id": "0dab1944-3f4e-4698-97ac-0e53afed3fe5",
   "metadata": {},
   "outputs": [],
   "source": [
    "import numpy as np\n",
    "import matplotlib.pyplot as plt\n",
    "import sys\n",
    "import yaml\n",
    "from tqdm import tqdm\n",
    "import torch\n",
    "sys.path.append('../')\n",
    "from plane import Plane\n",
    "from propagator import PropagatorFactory\n",
    "\n",
    "from scipy.signal import fftconvolve\n",
    "import torchvision"
   ]
  },
  {
   "cell_type": "markdown",
   "id": "c97e24ba-102f-48e2-98b8-f9033c5ef9f6",
   "metadata": {},
   "source": [
    "### CZT algorithm\n",
    "The only change to allow for independent sampling of the input plane and the output plane is to replace the last calculation step $\\mathbf{F}^{-1}\\{U\\}$ with a chirp z transform.\n",
    "\n",
    "We need scaling factors $\\alpha_x = \\Delta x^z / \\Delta {v_x}$, $\\alpha_y = \\Delta y^z / \\Delta {v_y}$\n",
    "\n",
    "We need new coordinates $w_x = \\alpha_x v_x$, $w_y = \\alpha_y v_y$\n",
    "\n",
    "And therefore new sampling intervals $\\Delta w_x = \\Delta x = \\alpha_x \\Delta v_x$, $\\Delta w_y = \\Delta y = \\alpha_y \\Delta v_y$\n",
    "\n",
    "\n",
    "The inverse fourier transform by the CZT is then\n",
    "\n",
    "$$ u^z = \\text{CZT}\\{ U^z\\} = \\Delta w_x \\Delta w_y C\\left( \\frac{U^z \\cdot E}{\\alpha_x \\alpha_y} \\circledast D \\right) $$\n",
    "\n",
    "where\n",
    "\n",
    "$$ C = exp[j\\pi(x^2/\\alpha_x + y^2/\\alpha_y)]$$\n",
    "\n",
    "$$ D = exp[-j\\pi(w_x^2/\\alpha_x + w_y^2/\\alpha_y)]$$\n",
    "\n",
    "$$ E = exp[j\\pi(w_x^2/\\alpha_x + w_y^2/\\alpha_y)]$$\n",
    "\n",
    "and $\\circledast$ is a linear convolution."
   ]
  },
  {
   "cell_type": "code",
   "execution_count": null,
   "id": "4c1d8b10-683c-47de-bd96-ad2a5b5ee4d4",
   "metadata": {},
   "outputs": [],
   "source": [
    "config = yaml.load(open('../config.yaml', 'r'), Loader=yaml.FullLoader)\n",
    "plane1_params = {\n",
    "    'name':'input_plane',\n",
    "    'size': (5.e-3, 5.e-3),\n",
    "    'Nx':512,\n",
    "    'Ny':512,\n",
    "    'center': (0,0,0),\n",
    "    'normal': (0,0,1)\n",
    "}\n",
    "plane2_params = {\n",
    "    'name':'output_plane',\n",
    "    'size': (5.e-3, 5.e-3),\n",
    "    'Nx':512,\n",
    "    'Ny':512,\n",
    "    'center': (0,0,9.e-2),\n",
    "    'normal': (0,0,1)\n",
    "}\n",
    "plane3_params = {\n",
    "    'name':'output_plane2',\n",
    "    'size': (10e-3, 10e-3),\n",
    "    'Nx':512,\n",
    "    'Ny':512,\n",
    "    'center': (0,0,9.e-2),\n",
    "    'normal': (0,0,1)\n",
    "}\n",
    "\n",
    "plane1 = Plane(plane1_params)\n",
    "plane2 = Plane(plane2_params)\n",
    "plane3 = Plane(plane3_params)"
   ]
  },
  {
   "cell_type": "code",
   "execution_count": null,
   "id": "38b5957a-8dd4-4d5b-a337-e3324b292757",
   "metadata": {},
   "outputs": [],
   "source": [
    "U = torch.ones((plane1.Nx, plane1.Ny))\n",
    "mask = np.sqrt(plane1.xx**2 + plane1.yy**2) < 0.15e-3\n",
    "U = U * mask\n",
    "plt.imshow(U)"
   ]
  },
  {
   "cell_type": "code",
   "execution_count": null,
   "id": "30cca40f-24e0-4357-aebc-c8bfc7f48d6f",
   "metadata": {},
   "outputs": [],
   "source": [
    "pf = PropagatorFactory()\n",
    "config['propagator']['prop_type'] = None\n",
    "prop = pf(plane1, plane2, config['propagator'])"
   ]
  },
  {
   "cell_type": "code",
   "execution_count": null,
   "id": "7184db11-9a7e-462f-9d41-14e9a4472fdb",
   "metadata": {},
   "outputs": [],
   "source": [
    "output = prop(U)\n",
    "plt.imshow(output.abs())"
   ]
  },
  {
   "cell_type": "code",
   "execution_count": null,
   "id": "58ebcdc5-c10b-45d8-ac66-5a8cd0122a23",
   "metadata": {},
   "outputs": [],
   "source": [
    "#Double the size to eliminate rsc errors.\n",
    "x = torch.linspace(-plane1.Lx/2 , plane1.Lx/2, plane1.Nx)\n",
    "y = torch.linspace(-plane1.Ly/2 , plane1.Ly/2, plane1.Ny)\n",
    "xx, yy = torch.meshgrid(x, y, indexing='ij')\n",
    "\n",
    "# Get the fourier dimensions\n",
    "fx = torch.fft.fftfreq(len(x), torch.diff(x)[0])\n",
    "fy = torch.fft.fftfreq(len(y), torch.diff(y)[0])\n",
    "fxx, fyy = torch.meshgrid(fx, fy, indexing='ij')\n",
    "\n",
    "delta_vx = torch.diff(fx)[0]\n",
    "delta_vy = torch.diff(fy)[0]\n",
    "\n",
    "delta_xz = plane3.delta_x\n",
    "delta_yz = plane3.delta_y\n",
    "\n",
    "alpha_x = delta_xz / delta_vx\n",
    "alpha_y = delta_yz / delta_vy\n",
    "\n",
    "wx = alpha_x * fx\n",
    "wy = alpha_y * fy\n",
    "\n",
    "wxx, wyy = torch.meshgrid(wx,wy, indexing='ij')\n",
    "\n",
    "delta_wx = torch.diff(wx)[0]\n",
    "delta_wy = torch.diff(wy)[0]\n",
    "\n",
    "print(delta_wx, plane3.delta_x)\n",
    "\n",
    "\n",
    "distance = plane3.center[-1] - plane1.center[-1]\n",
    "wavelength = 1.55e-6\n",
    "r = torch.sqrt(xx**2 + yy**2 + distance**2)\n",
    "k = (2 * torch.pi / wavelength)\n",
    "z = distance.double()\n",
    "\n",
    "h_rsc = torch.exp(1j*k*r) / r\n",
    "h_rsc *= ((1/r) - (1j*k))\n",
    "h_rsc *= (1/(2*torch.pi)) * (z/r)\n",
    "H = torch.fft.fft2(h_rsc)\n",
    "H = torch.fft.fftshift(H)\n",
    "mag = H.abs()\n",
    "ang = H.angle()\n",
    "mag = mag / torch.max(mag)\n",
    "H = mag * torch.exp(1j*ang)"
   ]
  },
  {
   "cell_type": "code",
   "execution_count": null,
   "id": "ea4d5102-17ad-4aa8-af3d-07047c62c1ca",
   "metadata": {},
   "outputs": [],
   "source": [
    "C = torch.exp(1j * torch.pi * ((plane3.xx**2 /alpha_x) + (plane3.yy**2 / alpha_y)))\n",
    "D = torch.exp(-1j * torch.pi * ((xx**2 / alpha_x) + (yy**2 / alpha_y)))\n",
    "E = torch.exp(1j * torch.pi * ((xx**2 / alpha_x) + (yy**2 / alpha_y)))\n",
    "\n",
    "print(len(C), len(D), len(E))"
   ]
  },
  {
   "cell_type": "code",
   "execution_count": null,
   "id": "6548ad0f-7b29-46fa-a51c-c72d489be7eb",
   "metadata": {},
   "outputs": [],
   "source": [
    "print(\"alpha_x : {}\".format(alpha_x))\n",
    "print(\"alpha_y : {}\".format(alpha_y))\n",
    "\n",
    "print(\"delta_wx : {}\".format(delta_wx))\n",
    "print(\"delta_wy : {}\".format(delta_wy))\n",
    "\n",
    "print(\"delta_x : {}\".format(plane1.delta_x))\n",
    "print(\"delta_y : {}\".format(plane1.delta_y))\n",
    "\n",
    "print(\"delta_xz : {}\".format(delta_xz))\n",
    "print(\"delta_yz : {}\".format(delta_yz))\n",
    "\n",
    "print(\"len(wx) : {}\".format(len(wx)))\n",
    "print(\"len(wy) : {}\".format(len(wy)))\n",
    "\n",
    "print(\"len(C) : {}\".format(len(C)))\n",
    "print(\"len(D) : {}\".format(len(D)))\n",
    "print(\"len(E) : {}\".format(len(E)))\n",
    "\n",
    "print(\"delta_x1 / delta_xz : {}\".format(plane1.delta_x / plane3.delta_x))\n",
    "print(\"N * delta_x1**2 / alpha : {}\".format(plane1.Nx * plane1.delta_x**2 / alpha_x))"
   ]
  },
  {
   "cell_type": "code",
   "execution_count": null,
   "id": "27069276-76b9-41df-abfa-11c9e6d2bfd1",
   "metadata": {},
   "outputs": [],
   "source": [
    "cc = torchvision.transforms.CenterCrop((len(C), len(C)))\n",
    "padx = torch.div(plane1.Nx, 2, rounding_mode='trunc')\n",
    "pady = torch.div(plane1.Ny, 2, rounding_mode='trunc')\n",
    "padding = (pady,pady,padx,padx)   \n",
    "\n",
    "U_padded = torch.nn.functional.pad(U,padding,mode=\"constant\")\n",
    "\n",
    "A = torch.fft.fft2(U)\n",
    "A = torch.fft.fftshift(A)\n",
    "Uz = A * H\n",
    "Uz = (Uz * E) / (alpha_x * alpha_y)\n",
    "\n",
    "D\n",
    "\n",
    "Uz = fftconvolve(Uz, D, mode='full')\n",
    "Uz = cc(torch.from_numpy(Uz)).numpy() * C.numpy() * delta_wx.numpy() * delta_wy.numpy()"
   ]
  },
  {
   "cell_type": "code",
   "execution_count": null,
   "id": "5ce7c4d0-0ae9-47d2-8172-b7a7923ec461",
   "metadata": {},
   "outputs": [],
   "source": [
    "cc = torchvision.transforms.CenterCrop((int(plane3.Nx), int(plane3.Ny)))"
   ]
  },
  {
   "cell_type": "code",
   "execution_count": null,
   "id": "4f8c2f7a-d244-4878-9550-c155f052f59c",
   "metadata": {},
   "outputs": [],
   "source": [
    "plt.imshow(np.abs(Uz))"
   ]
  },
  {
   "cell_type": "code",
   "execution_count": null,
   "id": "1ea8eb1f-5387-4e46-9fab-976b649ed080",
   "metadata": {},
   "outputs": [],
   "source": [
    "plt.imshow(output.abs())"
   ]
  },
  {
   "cell_type": "code",
   "execution_count": null,
   "id": "03b02a26-8875-47ea-8985-41873104d5a1",
   "metadata": {},
   "outputs": [],
   "source": [
    "len(C)"
   ]
  },
  {
   "cell_type": "code",
   "execution_count": null,
   "id": "3dde456a-3019-43d9-9d9c-fda5de5ecf7b",
   "metadata": {},
   "outputs": [],
   "source": []
  }
 ],
 "metadata": {
  "kernelspec": {
   "display_name": "Python 3 (ipykernel)",
   "language": "python",
   "name": "python3"
  },
  "language_info": {
   "codemirror_mode": {
    "name": "ipython",
    "version": 3
   },
   "file_extension": ".py",
   "mimetype": "text/x-python",
   "name": "python",
   "nbconvert_exporter": "python",
   "pygments_lexer": "ipython3",
   "version": "3.12.4"
  }
 },
 "nbformat": 4,
 "nbformat_minor": 5
}

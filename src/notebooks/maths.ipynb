{
 "cells": [
  {
   "attachments": {},
   "cell_type": "markdown",
   "id": "116a5320-e05e-4fb4-824c-e665beb0a0f1",
   "metadata": {},
   "source": [
    "# Nyquist math for shifted lens\n",
    "\n",
    "### Nyquist limit for on-axis lens (review)\n",
    "The phase equation for a spherical lens is given by\n",
    "\n",
    "\\begin{equation}\n",
    "    \\phi(x,y;z) = \\frac{1}{\\lambda}\\frac{x^2 + y^2}{2f}\n",
    "\\end{equation}\n",
    "\n",
    "where $\\lambda$ is the wavelength of light, $x$ and $y$ are the spatial coordinates on the plane of the lens, and $f$ is the focal length of the lens.\n",
    "\n",
    "When dealing with discrete optics such as spatial light modulators, the discretization imposes Nyquist sampling constraints similar to digital signal processing. The Nyquist sampling limit requires sampling at twice the largest spatial frequency. The largest spatial frequency is estimated by the maximum of the the derivative of the phase function with respect to the spatial coordinates, i.e.,\n",
    "\n",
    "\\begin{equation}\n",
    "\\begin{split}\n",
    "    \\left|\\frac{\\partial \\phi}{\\partial x} \\right|_{max} &= \\left|\\frac{x}{\\lambda f}\\right|_{max} = \\frac{ (L_x/2)}{\\lambda f} \\le \\frac{1}{2\\Delta_x}, \\\\\n",
    "    \\left|\\frac{\\partial \\phi}{\\partial y} \\right|_{max} &= \\left|\\frac{ y}{\\lambda f}\\right|_{max} = \\frac{ (L_y/2)}{\\lambda f} \\le \\frac{1}{2\\Delta_y}, \\\\\n",
    "\\end{split}\n",
    "\\end{equation}\n",
    "where $\\Delta_x$ and $\\Delta_y$ is the pixel pitch of the device in the $x$ or $y$ direction respectively. Functionally, this reduces the range of possible focal lengths that can be encoded into the device before aliasing occurs. Solving for the focal length, the maximum focal length that can be encoded by the device is\n",
    "\n",
    "\\begin{equation}\n",
    "    f \\geq \\frac{L_m \\Delta_m }{\\lambda}\n",
    "\\end{equation}\n",
    "assuming $L_x = L_y = L_m$, $\\Delta_x = \\Delta_y = \\Delta_m$.\n",
    "\n",
    "### Nyquist limit for off-axis lens (new)\n",
    "Following the strategy above, the phase equation for a spherical lens is given by\n",
    "\n",
    "\\begin{equation}\n",
    "    \\phi(x-x_0,y-y_0;z) = \\frac{1}{\\lambda}\\frac{(x-x_0)^2 + (y-y_0)^2}{2f}\n",
    "\\end{equation}\n",
    "\n",
    "where $x_0$ and $y_0$ are linear shifts in the $x$ and $y$ directions respectively. The largest spatial frequency in this case is also estimated by taking the maximum of the derivative of the phase function with respect to the spatial coordinates, i.e., \n",
    "\n",
    "\\begin{equation}\n",
    "    \\left|\\frac{\\partial^2 \\phi}{\\partial x \\partial y} \\right|_{max} = \\left|\\frac{4(x-x_0)(y-y_0)}{\\lambda f}\\right|_{max} = \\frac{4(L_x/2 + x_0)(L_y/2 + y_0)}{\\lambda f} \\le \\frac{1}{2\\Delta_m}\n",
    "\\end{equation}\n",
    "where $\\Delta_x = \\Delta_y = \\Delta_m$. Solving for the focal length, the minimum focal length that can be encoded by the device is\n",
    "\n",
    "\\begin{equation}\n",
    "    f \\geq \\frac{4 (L_x - x_0)(L_y - y_0) \\Delta_m }{\\lambda}.\n",
    "\\end{equation}\n",
    "The shift introduced changes the maximum spatial frequencies and therefore the minimum possible focal length that can be encoded by the device. Fig. {} plots the minimum focal length by spatial shifts where lines of constant focal length are given.\n",
    "\n",
    "<img src=\"contour_shifted_lens.png\" alt=\"drawing\" width=\"500px\"/>\n"
   ]
  },
  {
   "cell_type": "markdown",
   "id": "1d854fbf-f0ee-42f7-90e2-1c43733554db",
   "metadata": {},
   "source": [
    "## Nyquist limit for on-axis transfer functions (review)\n",
    "\n",
    "To accurately calculate scalar wave propagation using the angular spectrum method or the Rayleigh Sommerfeld convolutional method, the discritization needs to satisfy the Nyquist sampling constraint for the propagation transfer function or impulse reponse respectively. For the ASM, the transfer function needs to be sampled at twice the maximum spatial frequency present, i.e.,\n",
    "\n",
    "\\begin{equation}\n",
    "    \\left | \\frac{1}{2 \\pi} \\frac{\\partial \\psi(f_X)}{\\partial f_X}\\right |_{max} \\le \\frac{1}{2 \\Delta_f}\n",
    "\\end{equation}\n",
    "\n",
    "where $\\psi(f_X) = \\frac{2 \\pi}{\\lambda} z \\sqrt{1 - (\\lambda f_x)^2}$ is the phase of the angular spectrum transfer function which is a function of the spatial frequencies $(f_x, f_y)$, $\\Delta_f$ is the sample spacing in the Fourier domain. Similarly, the impulse reponse for the RSC method needs to be sampled at twice the maximum spatial frequency, i.e.,\n",
    "\n",
    "\\begin{equation}\n",
    "    \\left | \\frac{1}{2 \\pi} \\frac{\\partial \\psi(X)}{\\partial X}\\right |_{max} \\le \\frac{1}{2 \\Delta_X}\n",
    "\\end{equation}\n",
    "where $\\psi(X) = \\frac{2\\pi}{\\lambda}\\sqrt{X^2 + z^2}$ is the phase of the RSC impulse response, and $\\Delta_X$ is the sample pitch in the spatial domain. "
   ]
  },
  {
   "cell_type": "code",
   "execution_count": null,
   "id": "fdce1541-1b07-48f6-ab6e-b0eb854bd59d",
   "metadata": {},
   "outputs": [],
   "source": []
  }
 ],
 "metadata": {
  "kernelspec": {
   "display_name": "Python 3 (ipykernel)",
   "language": "python",
   "name": "python3"
  },
  "language_info": {
   "codemirror_mode": {
    "name": "ipython",
    "version": 3
   },
   "file_extension": ".py",
   "mimetype": "text/x-python",
   "name": "python",
   "nbconvert_exporter": "python",
   "pygments_lexer": "ipython3",
   "version": "3.11.5"
  }
 },
 "nbformat": 4,
 "nbformat_minor": 5
}

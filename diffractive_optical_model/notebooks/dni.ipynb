{
 "cells": [
  {
   "cell_type": "code",
   "execution_count": null,
   "id": "a2a715ca-9635-47d3-9fc7-2231fa3d357a",
   "metadata": {},
   "outputs": [],
   "source": [
    "import numpy as np\n",
    "import matplotlib.pyplot as plt\n",
    "import sys\n",
    "import yaml\n",
    "from tqdm import tqdm\n",
    "import torch\n",
    "sys.path.append('../')\n",
    "from plane import Plane\n",
    "from propagator import PropagatorFactory"
   ]
  },
  {
   "cell_type": "code",
   "execution_count": null,
   "id": "2ac2d998-8f34-47c0-b37c-5479e574c8c9",
   "metadata": {},
   "outputs": [],
   "source": [
    "config = yaml.load(open('../config.yaml', 'r'), Loader=yaml.FullLoader)"
   ]
  },
  {
   "cell_type": "code",
   "execution_count": null,
   "id": "b580e47f-3e6d-442c-9c53-b148d1626130",
   "metadata": {},
   "outputs": [],
   "source": [
    "plane1_params = {\n",
    "    'name':'input_plane',\n",
    "    'size': (5.e-3, 5.e-3),\n",
    "    'Nx':166,\n",
    "    'Ny':166,\n",
    "    'center': (0,0,0),\n",
    "    'normal': (0,0,1)\n",
    "}\n",
    "plane2_params = {\n",
    "    'name':'output_plane',\n",
    "    'size': (5.e-3, 5.e-3),\n",
    "    'Nx':166,\n",
    "    'Ny':166,\n",
    "    'center': (0,0,9.e-2),\n",
    "    'normal': (0,0,1)\n",
    "}"
   ]
  },
  {
   "cell_type": "code",
   "execution_count": null,
   "id": "4fe1b2d4-0944-4dc1-a100-c418ded29a22",
   "metadata": {},
   "outputs": [],
   "source": [
    "plane1 = Plane(plane1_params)\n",
    "plane2 = Plane(plane2_params)"
   ]
  },
  {
   "cell_type": "code",
   "execution_count": null,
   "id": "6a9f9834-e169-4752-9cf1-378881d0aa9f",
   "metadata": {},
   "outputs": [],
   "source": [
    "U = torch.ones((plane1.Nx, plane1.Ny))\n",
    "mask = np.sqrt(plane1.xx**2 + plane1.yy**2) < 0.15e-3\n",
    "U = U * mask\n",
    "plt.imshow(U)"
   ]
  },
  {
   "cell_type": "code",
   "execution_count": null,
   "id": "4034b53a-ae57-4684-9159-3df32b48c62d",
   "metadata": {},
   "outputs": [],
   "source": [
    "pf = PropagatorFactory()\n",
    "prop = pf(plane1, plane2, config)"
   ]
  },
  {
   "cell_type": "code",
   "execution_count": null,
   "id": "a10dbb6d-3548-47aa-bb48-73f5dc7cb5e0",
   "metadata": {},
   "outputs": [],
   "source": [
    "output = prop(U)"
   ]
  },
  {
   "cell_type": "code",
   "execution_count": null,
   "id": "759bcb4e-7bb3-4a51-b56f-dc615898fbfc",
   "metadata": {},
   "outputs": [],
   "source": [
    "plt.imshow(output.abs())"
   ]
  },
  {
   "cell_type": "code",
   "execution_count": null,
   "id": "041d2ef6-0dc2-4c9e-bdaf-37edb0c07707",
   "metadata": {},
   "outputs": [],
   "source": [
    "distance = plane2.center[-1] - plane1.center[-1]\n",
    "wavelength = 1.55e-6\n",
    "k = torch.pi * 2 / wavelength\n",
    "shape = U.size()\n",
    "padding = (shape[0]//2, shape[0]//2, shape[1]//2, shape[1]//2)\n",
    "U = torch.nn.functional.pad(U,padding,mode=\"constant\")\n",
    "output_field = U.new_empty(U.size(), dtype=torch.complex64)\n",
    "\n",
    "for i,x in enumerate(tqdm(plane1.x)):\n",
    "    for j,y in enumerate(plane1.y):\n",
    "        r = torch.sqrt((plane2.xx-x)**2 + (plane2.yy-y)**2 + distance**2)\n",
    "        chirp = torch.exp(1j * k * r)\n",
    "        scalar1 = distance / r\n",
    "        scalar2 = (( 1 / r) - 1j*k)\n",
    "        combined = U * chirp * scalar1 * scalar2\n",
    "        output_field[i,j] = combined.sum()"
   ]
  },
  {
   "cell_type": "code",
   "execution_count": null,
   "id": "a353a375-eb67-4867-b88c-12d0b38e8d27",
   "metadata": {},
   "outputs": [],
   "source": []
  }
 ],
 "metadata": {
  "kernelspec": {
   "display_name": "Python 3 (ipykernel)",
   "language": "python",
   "name": "python3"
  },
  "language_info": {
   "codemirror_mode": {
    "name": "ipython",
    "version": 3
   },
   "file_extension": ".py",
   "mimetype": "text/x-python",
   "name": "python",
   "nbconvert_exporter": "python",
   "pygments_lexer": "ipython3",
   "version": "3.12.4"
  }
 },
 "nbformat": 4,
 "nbformat_minor": 5
}
